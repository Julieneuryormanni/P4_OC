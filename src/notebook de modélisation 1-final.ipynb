{
 "cells": [
  {
   "cell_type": "markdown",
   "metadata": {},
   "source": [
    "# Projet 4: Anticipez les besoins en consommation électrique des bâtiments\n",
    "## Notebook de modélisation de SiteEnergyUse\n",
    "*Julie Neury-ormanni*"
   ]
  },
  {
   "cell_type": "markdown",
   "metadata": {},
   "source": [
    "## Sommaire <a class=\"anchor\" id=\"sommaire\"></a>\n",
    "## [Import des librairies](#1)<a class=\"anchor\" id=\"sommaire\"></a>\n",
    "## [Chargement des données](#2)<a class=\"anchor\" id=\"sommaire\"></a>\n",
    "## [Préparation des données](#3)<a class=\"anchor\" id=\"sommaire\"></a>\n",
    "### [Sélection des features](#4)<a class=\"anchor\" id=\"sommaire\"></a>\n",
    "### [Sélection de la target (y)](#5)<a class=\"anchor\" id=\"sommaire\"></a>\n",
    "### [Définition des fonctions des modèles](#6)<a class=\"anchor\" id=\"sommaire\"></a>\n",
    "#### [Fonction d'estimation des meilleurs paramètres](#7)<a class=\"anchor\" id=\"sommaire\"></a>\n",
    "#### [Fonction d'évaluation des métriques](#8)<a class=\"anchor\" id=\"sommaire\"></a>\n",
    "## [Régression linéaire](#9)<a class=\"anchor\" id=\"sommaire\"></a>\n",
    "### [Régression linéaire classique](#10)<a class=\"anchor\" id=\"sommaire\"></a>\n",
    "#### [Régression de Ridge](#11)<a class=\"anchor\" id=\"sommaire\"></a>\n",
    "##### [Estimation des meilleurs paramètres](#12)<a class=\"anchor\" id=\"sommaire\"></a>\n",
    "##### [Modéliser avec les meilleurs paramètres](#13)<a class=\"anchor\" id=\"sommaire\"></a>\n",
    "#### [Régression Lasso](#14)<a class=\"anchor\" id=\"sommaire\"></a>\n",
    "##### [Estimation des meilleurs paramètres](#15)<a class=\"anchor\" id=\"sommaire\"></a>\n",
    "##### [Modéliser avec les meilleurs paramètres](#16)<a class=\"anchor\" id=\"sommaire\"></a>\n",
    "#### [Régression ElasticNet](#17)<a class=\"anchor\" id=\"sommaire\"></a>\n",
    "##### [Estimation des meilleurs paramètres](#18)<a class=\"anchor\" id=\"sommaire\"></a>\n",
    "##### [Modéliser avec les meilleurs paramètres](#19)<a class=\"anchor\" id=\"sommaire\"></a>\n",
    "### [Conclusion](#20)<a class=\"anchor\" id=\"sommaire\"></a>\n",
    "## [Méthodes ensemblistes](#21)<a class=\"anchor\" id=\"sommaire\"></a>\n",
    "### [Random Forest Regressor](#22)<a class=\"anchor\" id=\"sommaire\"></a>\n",
    "#### [Estimation des meilleurs paramètres](#23)<a class=\"anchor\" id=\"sommaire\"></a>\n",
    "#### [Modéliser avec les meilleurs paramètres](#24)<a class=\"anchor\" id=\"sommaire\"></a>\n",
    "#### [L'importance des variables](#25)<a class=\"anchor\" id=\"sommaire\"></a>\n",
    "#### [Conclusion](#26)<a class=\"anchor\" id=\"sommaire\"></a>\n",
    "### [XG-Boost](#27)<a class=\"anchor\" id=\"sommaire\"></a>\n",
    "#### [Estimation des meilleurs paramètres](#28)<a class=\"anchor\" id=\"sommaire\"></a>\n",
    "#### [Modéliser avec les meilleurs paramètres](#29)<a class=\"anchor\" id=\"sommaire\"></a>\n",
    "#### [L'importance des variables](#30)<a class=\"anchor\" id=\"sommaire\"></a>\n",
    "#### [Conclusion](#31)<a class=\"anchor\" id=\"sommaire\"></a>\n",
    "## [Barchart de comparaison des modèles](#32)<a class=\"anchor\" id=\"sommaire\"></a>\n",
    "## [Choix du modèle et extraction des valeurs prédites](#33)<a class=\"anchor\" id=\"sommaire\"></a>"
   ]
  },
  {
   "cell_type": "markdown",
   "metadata": {},
   "source": [
    "------"
   ]
  },
  {
   "cell_type": "markdown",
   "metadata": {},
   "source": [
    "## [Import des librairies](#sommaire)<a class=\"anchor\" id=\"1\"></a>"
   ]
  },
  {
   "cell_type": "code",
   "execution_count": 1,
   "metadata": {},
   "outputs": [],
   "source": [
    "import pandas as pd\n",
    "import seaborn as sns\n",
    "import matplotlib.pyplot as plt\n",
    "import numpy as np"
   ]
  },
  {
   "cell_type": "code",
   "execution_count": 2,
   "metadata": {},
   "outputs": [],
   "source": [
    "from sklearn import linear_model\n",
    "from sklearn.feature_selection import SelectFromModel\n",
    "import timeit\n",
    "from sklearn import datasets, ensemble\n",
    "from sklearn.inspection import permutation_importance\n",
    "from sklearn import metrics\n",
    "import xgboost as xgb\n",
    "from sklearn.model_selection import GridSearchCV\n",
    "from sklearn.model_selection import cross_val_score\n",
    "from sklearn.model_selection import RandomizedSearchCV\n",
    "from sklearn.ensemble import RandomForestRegressor\n",
    "import shap"
   ]
  },
  {
   "cell_type": "markdown",
   "metadata": {},
   "source": [
    "## [Chargement des données](#sommaire)<a class=\"anchor\" id=\"2\"></a>"
   ]
  },
  {
   "cell_type": "code",
   "execution_count": 3,
   "metadata": {},
   "outputs": [],
   "source": [
    "train = pd.read_csv(r'C:\\Users\\neury\\Documents\\Python\\P4\\entrees\\train.csv', index_col = [0])\n",
    "test = pd.read_csv(r'C:\\Users\\neury\\Documents\\Python\\P4\\entrees\\test.csv', index_col = [0])"
   ]
  },
  {
   "cell_type": "markdown",
   "metadata": {},
   "source": [
    "## [Préparation des données](#sommaire)<a class=\"anchor\" id=\"3\"></a>"
   ]
  },
  {
   "cell_type": "markdown",
   "metadata": {},
   "source": [
    "future_target = ['SteamUse(kBtu)log',\n",
    " 'Electricity(kBtu)log',\n",
    " 'NaturalGas(kBtu)log',\n",
    " 'TotalGHGEmissionslog',\n",
    " 'Otherlog']"
   ]
  },
  {
   "cell_type": "markdown",
   "metadata": {},
   "source": [
    "### [Sélection des features](#sommaire)<a class=\"anchor\" id=\"4\"></a>"
   ]
  },
  {
   "cell_type": "code",
   "execution_count": 4,
   "metadata": {},
   "outputs": [],
   "source": [
    "features = ['YearBuilt', 'NumberofBuildingslog',\n",
    "       'NumberofFloorslog', 'PropertyGFATotallog', 'PropertyGFAParkinglog',\n",
    "       'SecondLargestPropertyUseTypeGFAlog',\n",
    "       'ThirdLargestPropertyUseTypeGFAlog',\n",
    "       'BuildingType_Campus',\n",
    "       'BuildingType_Multifamily HR (10+)',\n",
    "       'BuildingType_Multifamily LR (1-4)',\n",
    "       'BuildingType_Multifamily MR (5-9)', 'BuildingType_NonResidential',\n",
    "       'BuildingType_Restaurant', 'BuildingType_SPS-District K-12',\n",
    "       'PrimaryPropertyType_Distribution Center',\n",
    "       'PrimaryPropertyType_High-Rise Multifamily',\n",
    "       'PrimaryPropertyType_Hospital', 'PrimaryPropertyType_Hotel',\n",
    "       'PrimaryPropertyType_K-12 School', 'PrimaryPropertyType_Laboratory',\n",
    "       'PrimaryPropertyType_Large Office',\n",
    "       'PrimaryPropertyType_Low-Rise Multifamily',\n",
    "       'PrimaryPropertyType_Medical Office',\n",
    "       'PrimaryPropertyType_Mid-Rise Multifamily',\n",
    "       'PrimaryPropertyType_Mixed Use Property',\n",
    "       'PrimaryPropertyType_Non-Refrigerated Warehouse',\n",
    "       'PrimaryPropertyType_Other',\n",
    "       'PrimaryPropertyType_Refrigerated Warehouse',\n",
    "       'PrimaryPropertyType_Residence Hall', 'PrimaryPropertyType_Restaurant',\n",
    "       'PrimaryPropertyType_Retail Store',\n",
    "       'PrimaryPropertyType_Self-Storage Facility',\n",
    "       'PrimaryPropertyType_Senior Care Community',\n",
    "       'PrimaryPropertyType_Small- and Mid-Sized Office',\n",
    "       'PrimaryPropertyType_Supermarket / Grocery Store',\n",
    "       'PrimaryPropertyType_University', 'PrimaryPropertyType_Warehouse',\n",
    "       'PrimaryPropertyType_Worship Facility', 'Neighborhood_ballard',\n",
    "       'Neighborhood_central', 'Neighborhood_delridge',\n",
    "       'Neighborhood_downtown', 'Neighborhood_east',\n",
    "       'Neighborhood_greater duwamish', 'Neighborhood_lake union',\n",
    "       'Neighborhood_magnolia / queen anne', 'Neighborhood_north',\n",
    "       'Neighborhood_northeast', 'Neighborhood_northwest',\n",
    "       'Neighborhood_southeast', 'Neighborhood_southwest']"
   ]
  },
  {
   "cell_type": "markdown",
   "metadata": {},
   "source": [
    "### [Sélection de la target (y)](#sommaire)<a class=\"anchor\" id=\"5\"></a>"
   ]
  },
  {
   "cell_type": "code",
   "execution_count": 5,
   "metadata": {},
   "outputs": [],
   "source": [
    "y_train = train['SiteEnergyUse(kBtu)log']\n",
    "X_train = train[features]\n",
    "y_test = test['SiteEnergyUse(kBtu)log']\n",
    "X_test = test[features]"
   ]
  },
  {
   "cell_type": "code",
   "execution_count": 6,
   "metadata": {},
   "outputs": [],
   "source": [
    "# Création d'un dataframe dans lequel seront stockées les performances des modèles testés\n",
    "model_comparison = pd.DataFrame()"
   ]
  },
  {
   "cell_type": "markdown",
   "metadata": {},
   "source": [
    "### [Définition des fonctions des modèles](#sommaire)<a class=\"anchor\" id=\"6\"></a>"
   ]
  },
  {
   "cell_type": "markdown",
   "metadata": {},
   "source": [
    "#### [Fonction d'estimation des meilleurs paramètres](#sommaire)<a class=\"anchor\" id=\"7\"></a>"
   ]
  },
  {
   "cell_type": "markdown",
   "metadata": {},
   "source": [
    "Pour éviter les répétitions, la fonction gridsearchCV est créée. Elle permet d'utiliser la fonction gridsearchCV de sklearn pour tester différentes combinaisons d'hyperparamètres et de pouvoir extraire les hyperparamètres associés au meilleur R²."
   ]
  },
  {
   "cell_type": "code",
   "execution_count": 7,
   "metadata": {},
   "outputs": [],
   "source": [
    "# Définir la fonction gridsearchresult pour obtenir les meilleurs hyperparamètre des différents modèle tester\n",
    "def gridsearchresults(model, param_grid, X_train, y_train, X_test, y_test):\n",
    "    grid = GridSearchCV(estimator=model, param_grid=param_grid, scoring='r2', verbose=3, n_jobs=-1)\n",
    "    \n",
    "    # Ajuster sur les différentes combinaisons de GridSearchCV\n",
    "    grid_result = grid.fit(X_train, y_train)\n",
    "    \n",
    "    #Afficher les meilleurs scores (r²) et meilleurs paramètres\n",
    "    print('Best Score: ', grid_result.best_score_)\n",
    "    print('Best Params: ', grid_result.best_params_)\n",
    "    \n",
    "    #Calculer les métrics avec sklearn.metrics et les afficher\n",
    "    mse = metrics.mean_squared_error(grid.predict(X_test), y_test)\n",
    "    rmse = np.sqrt(mse) #mse**(0.5)  \n",
    "    r2 = metrics.r2_score(grid.predict(X_test), y_test)\n",
    "    \n",
    "    print(\"Results of sklearn.metrics:\")\n",
    "    print(\"RMSE:\", rmse)\n",
    "    print(\"R-Squared:\", r2)"
   ]
  },
  {
   "cell_type": "markdown",
   "metadata": {},
   "source": [
    "#### [Fonction d'évaluation des métriques](#sommaire)<a class=\"anchor\" id=\"8\"></a>"
   ]
  },
  {
   "cell_type": "markdown",
   "metadata": {},
   "source": [
    "La fonction suivante calcule les diverses métriques que l'on souhaite interpréter: Mean Absolute error (MAE), Root Mean Squarred Error (RMSE), le R squared et enfin le temps de test des combinaisons; et les retourne dans un dictionnaire."
   ]
  },
  {
   "cell_type": "code",
   "execution_count": 8,
   "metadata": {},
   "outputs": [],
   "source": [
    "def calcul_metrics(model,X_train, y_train, X_test, y_test):   \n",
    "    #Calculer les métrics avec sklearn.metrics et les afficher\n",
    "    mae = metrics.mean_absolute_error(model.predict(X_test), y_test)\n",
    "    mse = metrics.mean_squared_error(model.predict(X_test), y_test)\n",
    "    rmse = np.sqrt(mse) #mse**(0.5)  \n",
    "    r2 = metrics.r2_score(model.predict(X_test), y_test)\n",
    "    \n",
    "    print(\"Results of sklearn.metrics:\")\n",
    "    print(\"MAE:\",mae)\n",
    "    print(\"MSE:\", mse)\n",
    "    print(\"RMSE:\", rmse)\n",
    "    print(\"R-Squared:\", r2)\n",
    "    \n",
    "    return dict(r2 = r2, RMSE = rmse, MAE = mae)"
   ]
  },
  {
   "cell_type": "markdown",
   "metadata": {},
   "source": [
    "## [Régression linéaire](#sommaire)<a class=\"anchor\" id=\"9\"></a>"
   ]
  },
  {
   "cell_type": "markdown",
   "metadata": {},
   "source": [
    "### [Régression linéaire classique](#sommaire)<a class=\"anchor\" id=\"10\"></a>"
   ]
  },
  {
   "cell_type": "code",
   "execution_count": 9,
   "metadata": {
    "scrolled": true
   },
   "outputs": [
    {
     "name": "stdout",
     "output_type": "stream",
     "text": [
      "Durée 0.08s\n",
      "Results of sklearn.metrics:\n",
      "MAE: 0.3677921905883315\n",
      "MSE: 0.24721781723563768\n",
      "RMSE: 0.49721003332157093\n",
      "R-Squared: 0.7064997209862145\n"
     ]
    }
   ],
   "source": [
    "lr  = linear_model.LinearRegression()\n",
    "\n",
    "# Calculer le temps d'entraînement \n",
    "start_time = timeit.default_timer()\n",
    "\n",
    "# Ajuster les paramètres par rapport au données d'entraînements\n",
    "lr = lr.fit(X_train, y_train)\n",
    "\n",
    "duration_lr = timeit.default_timer() - start_time\n",
    "\n",
    "# Afficher le temps d'entraînement\n",
    "print ('Durée {:.2f}s'.format(duration_lr))\n",
    "\n",
    "# Calculer les métriques du modèles et créer un dictionnaire de ces données à insérer dans un df\n",
    "lr_result = calcul_metrics(lr,X_train, y_train, X_test, y_test)\n",
    "model_comparison = model_comparison.append(lr_result, ignore_index=True)"
   ]
  },
  {
   "cell_type": "markdown",
   "metadata": {},
   "source": [
    "#### [Régression de Ridge](#sommaire)<a class=\"anchor\" id=\"11\"></a>"
   ]
  },
  {
   "cell_type": "markdown",
   "metadata": {},
   "source": [
    "##### [Estimation des meilleurs paramètres](#sommaire)<a class=\"anchor\" id=\"12\"></a>"
   ]
  },
  {
   "cell_type": "code",
   "execution_count": 10,
   "metadata": {},
   "outputs": [],
   "source": [
    "# Le modèle que l'on souhaite tester\n",
    "ridge = linear_model.Ridge(normalize = True)\n",
    "\n",
    "# Création d'une liste d'alpha à tester\n",
    "n_alphas = 200\n",
    "alphas = np.logspace(-5 , 5 , n_alphas)\n",
    "\n",
    "# Liste des paramètres sous forme de dictionnaire pour tester avec gridsearchCV\n",
    "param_grid = dict(alpha=alphas)"
   ]
  },
  {
   "cell_type": "code",
   "execution_count": 11,
   "metadata": {},
   "outputs": [
    {
     "name": "stdout",
     "output_type": "stream",
     "text": [
      "Fitting 5 folds for each of 200 candidates, totalling 1000 fits\n",
      "Best Score:  0.7758050827966733\n",
      "Best Params:  {'alpha': 0.01304901978014403}\n",
      "Results of sklearn.metrics:\n",
      "RMSE: 0.4969540716677189\n",
      "R-Squared: 0.7002379512706096\n"
     ]
    }
   ],
   "source": [
    "gridsearchresults(ridge, param_grid, X_train, y_train, X_test, y_test)"
   ]
  },
  {
   "cell_type": "markdown",
   "metadata": {},
   "source": [
    "##### [Modéliser avec les meilleurs paramètres](#sommaire)<a class=\"anchor\" id=\"13\"></a>"
   ]
  },
  {
   "cell_type": "code",
   "execution_count": 12,
   "metadata": {},
   "outputs": [
    {
     "name": "stdout",
     "output_type": "stream",
     "text": [
      "Durée 0.01s\n"
     ]
    }
   ],
   "source": [
    "#Récupérer les meilleurs paramètres suggérés ci-dessus et les renseigner dans modèle\n",
    "ridge = linear_model.Ridge(alpha = 0.01304901978014403, normalize = True)\n",
    "start_time = timeit.default_timer()\n",
    "\n",
    "#Ajuster les données avec le meilleur paramètre recommandé\n",
    "ridge = ridge.fit(X_train, y_train)\n",
    "\n",
    "#Calculer le temps d'entraînement du modèle\n",
    "duration_ridge = timeit.default_timer() - start_time\n",
    "print('Durée {:.2f}s'.format(duration_ridge))"
   ]
  },
  {
   "cell_type": "code",
   "execution_count": 13,
   "metadata": {},
   "outputs": [
    {
     "name": "stdout",
     "output_type": "stream",
     "text": [
      "Results of sklearn.metrics:\n",
      "MAE: 0.36759161033939125\n",
      "MSE: 0.24696334934712424\n",
      "RMSE: 0.4969540716677189\n",
      "R-Squared: 0.7002379512706096\n"
     ]
    }
   ],
   "source": [
    "ridge_result = calcul_metrics(ridge,X_train, y_train, X_test, y_test)"
   ]
  },
  {
   "cell_type": "code",
   "execution_count": 14,
   "metadata": {},
   "outputs": [],
   "source": [
    "model_comparison = model_comparison.append(ridge_result, ignore_index=True)"
   ]
  },
  {
   "cell_type": "markdown",
   "metadata": {},
   "source": [
    "La valeur de alpha pour laquelle la précision est la plus élevée est de 0.012. Cependant, la précision n'est pas grandement améliorée avec ridge par rapport à la régression linéaire classique."
   ]
  },
  {
   "cell_type": "markdown",
   "metadata": {},
   "source": [
    "#### [Régression Lasso](#sommaire)<a class=\"anchor\" id=\"14\"></a>"
   ]
  },
  {
   "cell_type": "markdown",
   "metadata": {},
   "source": [
    "##### [Estimation des meilleurs paramètres](#sommaire)<a class=\"anchor\" id=\"15\"></a>"
   ]
  },
  {
   "cell_type": "code",
   "execution_count": 15,
   "metadata": {},
   "outputs": [],
   "source": [
    "# Le modèle que l'on souhaite tester\n",
    "lasso = linear_model.Lasso(fit_intercept=False, max_iter = 10000)\n",
    "\n",
    "# Création d'une liste d'alpha à tester\n",
    "n_alphas = 200\n",
    "alphas = np.logspace(-5 , 5 , n_alphas)\n",
    "\n",
    "# Liste des paramètres sous forme de dictionnaire pour tester avec gridsearchCV\n",
    "param_grid = dict(alpha=alphas)"
   ]
  },
  {
   "cell_type": "code",
   "execution_count": 16,
   "metadata": {
    "scrolled": true
   },
   "outputs": [
    {
     "name": "stdout",
     "output_type": "stream",
     "text": [
      "Fitting 5 folds for each of 200 candidates, totalling 1000 fits\n",
      "Best Score:  0.7769088402806269\n",
      "Best Params:  {'alpha': 0.00036123426997094305}\n",
      "Results of sklearn.metrics:\n",
      "RMSE: 0.4963139168595354\n",
      "R-Squared: 0.7033591107748558\n"
     ]
    }
   ],
   "source": [
    "gridsearchresults(lasso, param_grid, X_train, y_train, X_test, y_test)"
   ]
  },
  {
   "cell_type": "markdown",
   "metadata": {},
   "source": [
    "##### [Modéliser avec les meilleurs paramètres](#sommaire)<a class=\"anchor\" id=\"16\"></a>"
   ]
  },
  {
   "cell_type": "code",
   "execution_count": 17,
   "metadata": {},
   "outputs": [
    {
     "name": "stdout",
     "output_type": "stream",
     "text": [
      "Durée 0.01s\n"
     ]
    }
   ],
   "source": [
    "#Récupérer les meilleurs paramètres suggérés ci-dessus et les renseigner dans modèle\n",
    "lasso = linear_model.Lasso(alpha = 0.00036123426997094305, normalize = True)\n",
    "start_time = timeit.default_timer()\n",
    "\n",
    "#Ajuster les données avec le meilleur paramètre recommandé\n",
    "lasso = lasso.fit(X_train, y_train)\n",
    "\n",
    "#Calculer le temps d'entraînement du modèle\n",
    "duration_lasso = timeit.default_timer() - start_time\n",
    "print('Durée {:.2f}s'.format(duration_lasso))"
   ]
  },
  {
   "cell_type": "code",
   "execution_count": 18,
   "metadata": {},
   "outputs": [
    {
     "name": "stdout",
     "output_type": "stream",
     "text": [
      "Results of sklearn.metrics:\n",
      "MAE: 0.3741060151542538\n",
      "MSE: 0.24947888515944475\n",
      "RMSE: 0.49947861331536986\n",
      "R-Squared: 0.6716473655173616\n"
     ]
    }
   ],
   "source": [
    "lasso_result = calcul_metrics(lasso,X_train, y_train, X_test, y_test)"
   ]
  },
  {
   "cell_type": "code",
   "execution_count": 19,
   "metadata": {},
   "outputs": [],
   "source": [
    "model_comparison = model_comparison.append(lasso_result, ignore_index=True)"
   ]
  },
  {
   "cell_type": "markdown",
   "metadata": {},
   "source": [
    "La valeur de alpha pour laquelle la précision est la plus élevée est de 0.0004. Cependant, la précision n'est pas grandement améliorée avec le lasso par rapport à la régression linéaire classique."
   ]
  },
  {
   "cell_type": "markdown",
   "metadata": {},
   "source": [
    "#### [Régression ElasticNet](#sommaire)<a class=\"anchor\" id=\"17\"></a>"
   ]
  },
  {
   "cell_type": "markdown",
   "metadata": {},
   "source": [
    "##### [Estimation des meilleurs paramètres](#sommaire)<a class=\"anchor\" id=\"18\"></a>"
   ]
  },
  {
   "cell_type": "code",
   "execution_count": 20,
   "metadata": {},
   "outputs": [],
   "source": [
    "# Le modèle que l'on souhaite tester\n",
    "elasticnet = linear_model.ElasticNet(fit_intercept=False, max_iter = 10000)\n",
    "\n",
    "# Création d'une liste d'alpha à tester\n",
    "n_alphas = 200\n",
    "alphas = np.logspace(-5 , 5 , n_alphas)\n",
    "l1_ratio = [0, 0.1, 0.2, 0.3, 0.4, 0.5, 0.6, 0.7, 0.8, 0.9, 1]\n",
    "\n",
    "# Liste des paramètres sous forme de dictionnaire pour tester avec gridsearchCV\n",
    "param_grid = dict(alpha=alphas, l1_ratio=l1_ratio)"
   ]
  },
  {
   "cell_type": "code",
   "execution_count": 21,
   "metadata": {},
   "outputs": [
    {
     "name": "stdout",
     "output_type": "stream",
     "text": [
      "Fitting 5 folds for each of 2200 candidates, totalling 11000 fits\n",
      "Best Score:  0.7769088402806269\n",
      "Best Params:  {'alpha': 0.00036123426997094305, 'l1_ratio': 1}\n",
      "Results of sklearn.metrics:\n",
      "RMSE: 0.4963139168595354\n",
      "R-Squared: 0.7033591107748558\n"
     ]
    }
   ],
   "source": [
    "gridsearchresults(elasticnet, param_grid, X_train, y_train, X_test, y_test)"
   ]
  },
  {
   "cell_type": "markdown",
   "metadata": {},
   "source": [
    "##### [Modéliser avec les meilleurs paramètres](#sommaire)<a class=\"anchor\" id=\"19\"></a>"
   ]
  },
  {
   "cell_type": "code",
   "execution_count": 22,
   "metadata": {},
   "outputs": [
    {
     "name": "stdout",
     "output_type": "stream",
     "text": [
      "Durée 0.02s\n"
     ]
    }
   ],
   "source": [
    "#Récupérer les meilleurs paramètres suggérés ci-dessus et les renseigner dans modèle\n",
    "elasticnet = linear_model.ElasticNet(alpha = 0.00036123426997094305, l1_ratio = 1, normalize = True)\n",
    "start_time = timeit.default_timer()\n",
    "\n",
    "#Ajuster les données avec le meilleur paramètre recommandé\n",
    "elasticnet = elasticnet.fit(X_train, y_train)\n",
    "\n",
    "#Calculer le temps d'entraînement du modèle\n",
    "duration_elasticnet = timeit.default_timer() - start_time\n",
    "print('Durée {:.2f}s'.format(duration_elasticnet))"
   ]
  },
  {
   "cell_type": "code",
   "execution_count": 23,
   "metadata": {},
   "outputs": [
    {
     "name": "stdout",
     "output_type": "stream",
     "text": [
      "Results of sklearn.metrics:\n",
      "MAE: 0.3741060151542538\n",
      "MSE: 0.24947888515944475\n",
      "RMSE: 0.49947861331536986\n",
      "R-Squared: 0.6716473655173616\n"
     ]
    }
   ],
   "source": [
    "elasticnet_result = calcul_metrics(elasticnet,X_train, y_train, X_test, y_test)"
   ]
  },
  {
   "cell_type": "code",
   "execution_count": 24,
   "metadata": {},
   "outputs": [],
   "source": [
    "model_comparison = model_comparison.append(elasticnet_result, ignore_index=True)"
   ]
  },
  {
   "cell_type": "markdown",
   "metadata": {},
   "source": [
    "La valeur de alpha pour laquelle la précision est la plus élevée est de 0.0004 et celle du l1_ratio est de 1. Cela signifie que le régularisateur elasticnet applique une correction similaire à celle du lasso (même valeur d'alpha)."
   ]
  },
  {
   "cell_type": "markdown",
   "metadata": {},
   "source": [
    "### [Conclusion](#sommaire)<a class=\"anchor\" id=\"20\"></a>"
   ]
  },
  {
   "cell_type": "markdown",
   "metadata": {},
   "source": [
    "Ci dessus, les régularisateurs n'améliorent pas la précision du modèle. La différence entre le R² du jeu de donnée train et celui du jeu de donnée test démontre une perte de précision de 7% sur les prédictions test.\n",
    "Nous allons donc tester des méthodes ensemblistes pour essayer d'améliorer la précision de la prédiction."
   ]
  },
  {
   "cell_type": "markdown",
   "metadata": {},
   "source": [
    "## [Méthodes ensemblistes](#sommaire)<a class=\"anchor\" id=\"21\"></a>"
   ]
  },
  {
   "cell_type": "markdown",
   "metadata": {},
   "source": [
    "### [Random Forest Regressor](#sommaire)<a class=\"anchor\" id=\"22\"></a>"
   ]
  },
  {
   "cell_type": "markdown",
   "metadata": {},
   "source": [
    "#### [Estimation des meilleurs paramètres](#sommaire)<a class=\"anchor\" id=\"23\"></a>"
   ]
  },
  {
   "cell_type": "markdown",
   "metadata": {},
   "source": [
    "Dans un premier temps, la librairie RandomizedSearchCV permet de tester aléatoirement quelques combinaisons d'hyperparamètres proposés ci-dessous pour réduire le nombre de valeurs à tester par hyperparamètre des modèles et donc le temps d'entraînement sur les différents combinaisons avec GridSearchCV."
   ]
  },
  {
   "cell_type": "code",
   "execution_count": 25,
   "metadata": {},
   "outputs": [
    {
     "name": "stdout",
     "output_type": "stream",
     "text": [
      "{'n_estimators': [200, 400, 600, 800, 1000, 1200, 1400, 1600, 1800, 2000], 'max_features': [2, 7, 12, 18, 23, 29, 34, 40, 45, 51], 'max_depth': [10, 20, 30, 40, 50, 60, 70, 80, 90, 100, 110, None], 'min_samples_split': [10, 50, 100, 300, 500], 'min_samples_leaf': [5, 25, 50, 150, 250], 'bootstrap': [True, False]}\n"
     ]
    }
   ],
   "source": [
    "# Number of trees in random forest\n",
    "n_estimators = [int(x) for x in np.linspace(start = 200, stop = 2000, num = 10)]\n",
    "# Number of features to consider at every split\n",
    "max_features = [int(x) for x in np.linspace (start = 2, stop = X_train.shape[1], num = 10)]\n",
    "# Maximum number of levels in tree\n",
    "max_depth = [int(x) for x in np.linspace(10, 110, num = 11)]\n",
    "max_depth.append(None)\n",
    "# Minimum number of samples required to split a node\n",
    "min_samples_split = [10, 50, 100, 300, 500]\n",
    "# Minimum number of samples required at each leaf node\n",
    "min_samples_leaf = [5, 25, 50, 150, 250]\n",
    "# Method of selecting samples for training each tree\n",
    "bootstrap = [True, False]\n",
    "# Create the random grid\n",
    "random_grid = {'n_estimators': n_estimators, #Number of trees in the forest\n",
    "               'max_features': max_features, #max numbers of features considered for splitting a node\n",
    "               'max_depth': max_depth,# max number of levels in each decision tree\n",
    "               'min_samples_split': min_samples_split,#min number of data points placed in a node before the node is split\n",
    "               'min_samples_leaf': min_samples_leaf,#min number of data points allowed in a leaf node\n",
    "               'bootstrap': bootstrap}# method for sampling data points (with or without replacement)\n",
    "print(random_grid)"
   ]
  },
  {
   "cell_type": "code",
   "execution_count": 26,
   "metadata": {},
   "outputs": [
    {
     "name": "stdout",
     "output_type": "stream",
     "text": [
      "Fitting 3 folds for each of 100 candidates, totalling 300 fits\n"
     ]
    },
    {
     "data": {
      "text/plain": [
       "RandomizedSearchCV(cv=3, estimator=RandomForestRegressor(), n_iter=100,\n",
       "                   n_jobs=-1,\n",
       "                   param_distributions={'bootstrap': [True, False],\n",
       "                                        'max_depth': [10, 20, 30, 40, 50, 60,\n",
       "                                                      70, 80, 90, 100, 110,\n",
       "                                                      None],\n",
       "                                        'max_features': [2, 7, 12, 18, 23, 29,\n",
       "                                                         34, 40, 45, 51],\n",
       "                                        'min_samples_leaf': [5, 25, 50, 150,\n",
       "                                                             250],\n",
       "                                        'min_samples_split': [10, 50, 100, 300,\n",
       "                                                              500],\n",
       "                                        'n_estimators': [200, 400, 600, 800,\n",
       "                                                         1000, 1200, 1400, 1600,\n",
       "                                                         1800, 2000]},\n",
       "                   random_state=42, verbose=2)"
      ]
     },
     "execution_count": 26,
     "metadata": {},
     "output_type": "execute_result"
    }
   ],
   "source": [
    "# Use the random grid to search for best hyperparameters\n",
    "# First create the base model to tune\n",
    "rfr = RandomForestRegressor()\n",
    "# Random search of parameters, using 3 fold cross validation, \n",
    "# search across 100 different combinations, and use all available cores\n",
    "rfr_random = RandomizedSearchCV(\n",
    "    estimator = rfr, \n",
    "    param_distributions = random_grid, \n",
    "    n_iter = 100, # number of different combination to try (wider search space)\n",
    "    cv = 3, #number of folds to use for cross validation (++ reduce overfitting chance)\n",
    "    verbose=2, \n",
    "    random_state=42, \n",
    "    n_jobs = -1)\n",
    "# Fit the random search model\n",
    "rfr_random.fit(X_train, y_train)"
   ]
  },
  {
   "cell_type": "code",
   "execution_count": 27,
   "metadata": {
    "scrolled": true
   },
   "outputs": [
    {
     "data": {
      "text/plain": [
       "{'n_estimators': 1600,\n",
       " 'min_samples_split': 10,\n",
       " 'min_samples_leaf': 5,\n",
       " 'max_features': 18,\n",
       " 'max_depth': 50,\n",
       " 'bootstrap': False}"
      ]
     },
     "execution_count": 27,
     "metadata": {},
     "output_type": "execute_result"
    }
   ],
   "source": [
    "rfr_random.best_params_"
   ]
  },
  {
   "cell_type": "code",
   "execution_count": 28,
   "metadata": {},
   "outputs": [],
   "source": [
    "# Create the parameter grid based on the results of random search \n",
    "param_grid = {\n",
    "    'bootstrap': [False],\n",
    "    'max_depth': [10, 20, 30, 40],\n",
    "    'max_features':[18],\n",
    "    'min_samples_leaf': [5, 10, 20],\n",
    "    'min_samples_split': [10, 20, 40],\n",
    "    'n_estimators': [1600, 1800]\n",
    "}\n",
    "\n",
    "# Create a based model\n",
    "rfr = RandomForestRegressor()"
   ]
  },
  {
   "cell_type": "code",
   "execution_count": 29,
   "metadata": {},
   "outputs": [
    {
     "name": "stdout",
     "output_type": "stream",
     "text": [
      "Fitting 5 folds for each of 72 candidates, totalling 360 fits\n",
      "Best Score:  0.759062451027199\n",
      "Best Params:  {'bootstrap': False, 'max_depth': 20, 'max_features': 18, 'min_samples_leaf': 5, 'min_samples_split': 10, 'n_estimators': 1800}\n",
      "Results of sklearn.metrics:\n",
      "RMSE: 0.49811662869262313\n",
      "R-Squared: 0.6831987411031707\n"
     ]
    }
   ],
   "source": [
    "gridsearchresults(rfr, param_grid, X_train, y_train, X_test, y_test)"
   ]
  },
  {
   "cell_type": "markdown",
   "metadata": {},
   "source": [
    "#### [Modéliser avec les meilleurs paramètres](#sommaire)<a class=\"anchor\" id=\"24\"></a>"
   ]
  },
  {
   "cell_type": "code",
   "execution_count": 30,
   "metadata": {},
   "outputs": [
    {
     "name": "stdout",
     "output_type": "stream",
     "text": [
      "Durée 7.56s\n"
     ]
    }
   ],
   "source": [
    "rfr =  RandomForestRegressor(bootstrap= False, \n",
    "                             max_depth= 20, \n",
    "                             max_features= 18, \n",
    "                             min_samples_leaf= 5, \n",
    "                             min_samples_split=10, \n",
    "                             n_estimators= 1800)\n",
    "start_time = timeit.default_timer()\n",
    "rfr = rfr.fit(X_train, y_train)\n",
    "duration_rfr = timeit.default_timer() - start_time\n",
    "print('Durée {:.2f}s'.format(duration_rfr))"
   ]
  },
  {
   "cell_type": "code",
   "execution_count": 31,
   "metadata": {},
   "outputs": [
    {
     "name": "stdout",
     "output_type": "stream",
     "text": [
      "Results of sklearn.metrics:\n",
      "MAE: 0.36138311463109263\n",
      "MSE: 0.24825973326600206\n",
      "RMSE: 0.49825669415071794\n",
      "R-Squared: 0.6827185701719327\n"
     ]
    }
   ],
   "source": [
    "rfr_result = calcul_metrics(rfr,X_train, y_train, X_test, y_test)"
   ]
  },
  {
   "cell_type": "code",
   "execution_count": 32,
   "metadata": {},
   "outputs": [],
   "source": [
    "model_comparison = model_comparison.append(rfr_result, ignore_index=True)"
   ]
  },
  {
   "cell_type": "markdown",
   "metadata": {},
   "source": [
    "#### [L'importance des variables](#sommaire)<a class=\"anchor\" id=\"25\"></a>"
   ]
  },
  {
   "cell_type": "code",
   "execution_count": 33,
   "metadata": {},
   "outputs": [
    {
     "data": {
      "image/png": "[encoded data removed]",
      "text/plain": [
       "<Figure size 576x684 with 2 Axes>"
      ]
     },
     "metadata": {
      "needs_background": "light"
     },
     "output_type": "display_data"
    }
   ],
   "source": [
    "rf_shap_values = shap.TreeExplainer(rfr).shap_values(X_train)\n",
    "f = plt.figure()\n",
    "shap.summary_plot(rf_shap_values, X_train)"
   ]
  },
  {
   "cell_type": "markdown",
   "metadata": {},
   "source": [
    "#### [Conclusion](#sommaire)<a class=\"anchor\" id=\"26\"></a>"
   ]
  },
  {
   "cell_type": "markdown",
   "metadata": {},
   "source": [
    "Le randomforest testé ci-dessus à partir des meilleurs paramètres sélectionnés par GridSearchCV ne présente pas d'amélioration de la précision par rapport aux régressions linéaires précédentes et une plus grande perte de précision entre le jeu de donnée d'entraînement et le jeu de donnée test.\n",
    "La variable la plus importante considérée dans le modèle et la surface totale de la propriété: plus elle est élevée, plus la consommation en énergie sur site augmente."
   ]
  },
  {
   "cell_type": "markdown",
   "metadata": {},
   "source": [
    "### [XG-Boost](#sommaire)<a class=\"anchor\" id=\"27\"></a>"
   ]
  },
  {
   "cell_type": "markdown",
   "metadata": {},
   "source": [
    "#### [Estimation des meilleurs paramètres](#sommaire)<a class=\"anchor\" id=\"28\"></a>"
   ]
  },
  {
   "cell_type": "code",
   "execution_count": 34,
   "metadata": {},
   "outputs": [
    {
     "name": "stdout",
     "output_type": "stream",
     "text": [
      "{'n_estimators': [200, 400, 600, 800, 1000, 1200, 1400, 1600, 1800, 2000], 'max_depth': [10, 20, 30, 40, 50, 60, 70, 80, 90, 100, 110, None], 'learning_rate': [0, 0.1, 0.2, 0.3, 0.4, 0.5, 0.6, 0.7, 0.8, 0.9, 1], 'colsample_bytree': [0, 0.1, 0.2, 0.3, 0.4, 0.5, 0.6, 0.7, 0.8, 0.9, 1], 'colsample_bylevel': [0, 0.1, 0.2, 0.3, 0.4, 0.5, 0.6, 0.7, 0.8, 0.9, 1], 'colsample_bynode': [0, 0.1, 0.2, 0.3, 0.4, 0.5, 0.6, 0.7, 0.8, 0.9, 1]}\n"
     ]
    }
   ],
   "source": [
    "# Number of trees in random forest\n",
    "n_estimators = [int(x) for x in np.linspace(start = 200, stop = 2000, num = 10)]\n",
    "# Maximum number of levels in tree\n",
    "max_depth = [int(x) for x in np.linspace(10, 110, num = 11)]\n",
    "max_depth.append(None)\n",
    "# Learning rate (eta)réduit les pondérations\n",
    "eta = [0, 0.1, 0.2, 0.3, 0.4, 0.5, 0.6, 0.7, 0.8, 0.9, 1]\n",
    "# Subsample ratio of columns when constructing each tree\n",
    "colsample_bytree = [0, 0.1, 0.2, 0.3, 0.4, 0.5, 0.6, 0.7, 0.8, 0.9, 1]\n",
    "#  subsample ratio of columns for each level\n",
    "colsample_bylevel = [0, 0.1, 0.2, 0.3, 0.4, 0.5, 0.6, 0.7, 0.8, 0.9, 1]\n",
    "#subsample ratio of columns for each node (split)\n",
    "colsample_bynode = [0, 0.1, 0.2, 0.3, 0.4, 0.5, 0.6, 0.7, 0.8, 0.9, 1]\n",
    "# Create the random grid\n",
    "random_grid = {'n_estimators': n_estimators, \n",
    "               'max_depth': max_depth,\n",
    "               'learning_rate': eta,\n",
    "               'colsample_bytree': colsample_bytree,\n",
    "               'colsample_bylevel':colsample_bylevel,\n",
    "               'colsample_bynode':colsample_bynode}\n",
    "print(random_grid)"
   ]
  },
  {
   "cell_type": "code",
   "execution_count": 35,
   "metadata": {},
   "outputs": [
    {
     "name": "stdout",
     "output_type": "stream",
     "text": [
      "Fitting 3 folds for each of 100 candidates, totalling 300 fits\n"
     ]
    },
    {
     "data": {
      "text/plain": [
       "RandomizedSearchCV(cv=3,\n",
       "                   estimator=XGBRegressor(base_score=None, booster=None,\n",
       "                                          colsample_bylevel=None,\n",
       "                                          colsample_bynode=None,\n",
       "                                          colsample_bytree=None, gamma=None,\n",
       "                                          gpu_id=None, importance_type='gain',\n",
       "                                          interaction_constraints=None,\n",
       "                                          learning_rate=None,\n",
       "                                          max_delta_step=None, max_depth=None,\n",
       "                                          min_child_weight=None, missing=nan,\n",
       "                                          monotone_constraints=None,\n",
       "                                          n_estimators=100, n...\n",
       "                                                              0.4, 0.5, 0.6,\n",
       "                                                              0.7, 0.8, 0.9,\n",
       "                                                              1],\n",
       "                                        'colsample_bynode': [0, 0.1, 0.2, 0.3,\n",
       "                                                             0.4, 0.5, 0.6, 0.7,\n",
       "                                                             0.8, 0.9, 1],\n",
       "                                        'colsample_bytree': [0, 0.1, 0.2, 0.3,\n",
       "                                                             0.4, 0.5, 0.6, 0.7,\n",
       "                                                             0.8, 0.9, 1],\n",
       "                                        'learning_rate': [0, 0.1, 0.2, 0.3, 0.4,\n",
       "                                                          0.5, 0.6, 0.7, 0.8,\n",
       "                                                          0.9, 1],\n",
       "                                        'max_depth': [10, 20, 30, 40, 50, 60,\n",
       "                                                      70, 80, 90, 100, 110,\n",
       "                                                      None],\n",
       "                                        'n_estimators': [200, 400, 600, 800,\n",
       "                                                         1000, 1200, 1400, 1600,\n",
       "                                                         1800, 2000]},\n",
       "                   random_state=42, verbose=2)"
      ]
     },
     "execution_count": 35,
     "metadata": {},
     "output_type": "execute_result"
    }
   ],
   "source": [
    "xg_reg = xgb.XGBRegressor()\n",
    "\n",
    "xg_reg_random = RandomizedSearchCV(\n",
    "    estimator = xg_reg, \n",
    "    param_distributions = random_grid, \n",
    "    n_iter = 100, # number of different combination to try (wider search space)\n",
    "    cv = 3, #number of folds to use for cross validation (++ reduce overfitting chance)\n",
    "    verbose=2, \n",
    "    random_state=42, \n",
    "    n_jobs = -1)\n",
    "# Fit the random search model\n",
    "xg_reg_random.fit(X_train, y_train)"
   ]
  },
  {
   "cell_type": "code",
   "execution_count": 36,
   "metadata": {},
   "outputs": [
    {
     "data": {
      "text/plain": [
       "{'n_estimators': 1000,\n",
       " 'max_depth': 60,\n",
       " 'learning_rate': 0.1,\n",
       " 'colsample_bytree': 0.9,\n",
       " 'colsample_bynode': 0.5,\n",
       " 'colsample_bylevel': 0}"
      ]
     },
     "execution_count": 36,
     "metadata": {},
     "output_type": "execute_result"
    }
   ],
   "source": [
    "xg_reg_random.best_params_"
   ]
  },
  {
   "cell_type": "code",
   "execution_count": 37,
   "metadata": {},
   "outputs": [],
   "source": [
    "# Create the parameter grid based on the results of random search \n",
    "param_grid = {\n",
    "    'n_estimators': [800, 1000],\n",
    "    'max_depth': [40, 50, 60],\n",
    "    'learning_rate': [0.01, 0.05, 0.1],\n",
    "    'colsample_bytree': [0.7, 0.9],\n",
    "    'colsample_bynode': [0.4, 0.5],\n",
    "    'colsample_bylevel': [0.1, 0.2]\n",
    "}\n",
    "\n",
    "# Create a based model\n",
    "xg_reg = xgb.XGBRegressor()"
   ]
  },
  {
   "cell_type": "code",
   "execution_count": 38,
   "metadata": {},
   "outputs": [
    {
     "name": "stdout",
     "output_type": "stream",
     "text": [
      "Fitting 5 folds for each of 144 candidates, totalling 720 fits\n",
      "Best Score:  0.7743564576287041\n",
      "Best Params:  {'colsample_bylevel': 0.1, 'colsample_bynode': 0.4, 'colsample_bytree': 0.7, 'learning_rate': 0.1, 'max_depth': 40, 'n_estimators': 800}\n",
      "Results of sklearn.metrics:\n",
      "RMSE: 0.4806938168343447\n",
      "R-Squared: 0.7288550481355937\n"
     ]
    },
    {
     "name": "stderr",
     "output_type": "stream",
     "text": [
      "Use subset (sliced data) of np.ndarray is not recommended because it will generate extra copies and increase memory consumption\n",
      "Use subset (sliced data) of np.ndarray is not recommended because it will generate extra copies and increase memory consumption\n"
     ]
    }
   ],
   "source": [
    "gridsearchresults(xg_reg, param_grid, X_train, y_train, X_test, y_test)"
   ]
  },
  {
   "cell_type": "markdown",
   "metadata": {},
   "source": [
    "#### [Modéliser avec les meilleurs paramètres](#sommaire)<a class=\"anchor\" id=\"29\"></a>"
   ]
  },
  {
   "cell_type": "code",
   "execution_count": 39,
   "metadata": {},
   "outputs": [
    {
     "name": "stdout",
     "output_type": "stream",
     "text": [
      "Durée 0.74s\n"
     ]
    }
   ],
   "source": [
    "xg_reg = xgb.XGBRegressor(colsample_bylevel = 0.1, \n",
    "                          colsample_bynode = 0.4, \n",
    "                          colsample_bytree = 0.7, \n",
    "                          learning_rate = 0.1, \n",
    "                          max_depth = 40, \n",
    "                          n_estimators = 800)\n",
    "start_time = timeit.default_timer()\n",
    "xg_reg.fit(X_train, y_train)\n",
    "duration_xgboost = timeit.default_timer() - start_time\n",
    "print('Durée {:.2f}s'.format(duration_xgboost))"
   ]
  },
  {
   "cell_type": "code",
   "execution_count": 40,
   "metadata": {
    "scrolled": true
   },
   "outputs": [
    {
     "name": "stdout",
     "output_type": "stream",
     "text": [
      "Results of sklearn.metrics:\n",
      "MAE: 0.36138311463109263\n",
      "MSE: 0.24825973326600206\n",
      "RMSE: 0.49825669415071794\n",
      "R-Squared: 0.6827185701719327\n"
     ]
    }
   ],
   "source": [
    "xgboost_result = calcul_metrics(rfr,X_train, y_train, X_test, y_test)"
   ]
  },
  {
   "cell_type": "code",
   "execution_count": 41,
   "metadata": {},
   "outputs": [],
   "source": [
    "model_comparison = model_comparison.append(xgboost_result, ignore_index=True)"
   ]
  },
  {
   "cell_type": "markdown",
   "metadata": {},
   "source": [
    "#### [L'importance des variables](#sommaire)<a class=\"anchor\" id=\"30\"></a>"
   ]
  },
  {
   "cell_type": "code",
   "execution_count": 43,
   "metadata": {},
   "outputs": [
    {
     "data": {
      "image/png": "[encoded data removed]",
      "text/plain": [
       "<Figure size 576x684 with 2 Axes>"
      ]
     },
     "metadata": {
      "needs_background": "light"
     },
     "output_type": "display_data"
    }
   ],
   "source": [
    "xg_shap_values = shap.TreeExplainer(xg_reg).shap_values(X_train)\n",
    "f = plt.figure()\n",
    "shap.summary_plot(xg_shap_values, X_train)"
   ]
  },
  {
   "cell_type": "markdown",
   "metadata": {},
   "source": [
    "#### [Conclusion](#sommaire)<a class=\"anchor\" id=\"31\"></a>"
   ]
  },
  {
   "cell_type": "markdown",
   "metadata": {},
   "source": []
  },
  {
   "cell_type": "markdown",
   "metadata": {},
   "source": [
    "## [Barchart de comparaison des modèles](#sommaire)<a class=\"anchor\" id=\"32\"></a>"
   ]
  },
  {
   "cell_type": "code",
   "execution_count": 44,
   "metadata": {},
   "outputs": [],
   "source": [
    "duration = [duration_lr, duration_ridge, duration_lasso, duration_elasticnet, duration_rfr, duration_xgboost]\n",
    "modele = ['Reg Lin', 'Ridge', 'Lasso', 'ElasticNet', 'RandomForest', 'XgBoost']"
   ]
  },
  {
   "cell_type": "code",
   "execution_count": 45,
   "metadata": {},
   "outputs": [],
   "source": [
    "model_comparison['duration'] = duration"
   ]
  },
  {
   "cell_type": "code",
   "execution_count": 46,
   "metadata": {},
   "outputs": [
    {
     "data": {
      "image/png": "[encoded data removed]",
      "text/plain": [
       "<Figure size 720x360 with 2 Axes>"
      ]
     },
     "metadata": {
      "needs_background": "light"
     },
     "output_type": "display_data"
    }
   ],
   "source": [
    "fig = plt.figure(figsize = (10,5))\n",
    "ax = fig.add_subplot(111)\n",
    "ax2 = ax.twinx()\n",
    "width = 0.1\n",
    "ind = np.arange(len(model_comparison))\n",
    "ax.set_ylabel('R²')\n",
    "ax2.set_ylabel(\"Temps d'entraînement (s)\")\n",
    "ax.set_xlabel('modèle')\n",
    "ax.bar(ind, model_comparison.r2, width, color='red', label = 'R²')\n",
    "ax2.bar(ind + width, model_comparison.duration, width, color = 'orange', label = \"Temps d'entraînement (s)\")\n",
    "ax.set(xticks = (ind + 1.5 * width), xticklabels = modele)\n",
    "ax.legend(['R²'], bbox_to_anchor = (1.2, 1))\n",
    "ax2.legend([\"Temps d'entraînement\"], bbox_to_anchor = (1.06, 0.87))\n",
    "plt.show()"
   ]
  },
  {
   "cell_type": "code",
   "execution_count": 48,
   "metadata": {},
   "outputs": [
    {
     "data": {
      "image/png": "[encoded data removed]",
      "text/plain": [
       "<Figure size 720x360 with 2 Axes>"
      ]
     },
     "metadata": {
      "needs_background": "light"
     },
     "output_type": "display_data"
    }
   ],
   "source": [
    "fig = plt.figure(figsize = (10,5))\n",
    "ax = fig.add_subplot(111)\n",
    "ax2 = ax.twinx()\n",
    "width = 0.1\n",
    "ind = np.arange(len(model_comparison))\n",
    "ax.set_ylabel('RMSE')\n",
    "ax2.set_ylabel('MAE')\n",
    "ax.set_xlabel('modèle')\n",
    "ax.bar(ind, model_comparison.RMSE, width, color='red', label = 'RMSE')\n",
    "ax2.bar(ind + width, model_comparison.MAE, width, color = 'orange', label = 'MAE')\n",
    "ax.set(xticks = (ind + 1.5 * width), xticklabels = modele)\n",
    "ax.legend(['RMSE', 'R²'], bbox_to_anchor = (1.2, 1))\n",
    "ax2.legend([\"MAE\"], bbox_to_anchor = (1.06, 0.87))\n",
    "plt.show()"
   ]
  },
  {
   "cell_type": "markdown",
   "metadata": {},
   "source": [
    "## [Choix du modèle et extraction des valeurs prédites](#sommaire)<a class=\"anchor\" id=\"33\"></a>"
   ]
  },
  {
   "cell_type": "code",
   "execution_count": null,
   "metadata": {},
   "outputs": [],
   "source": []
  }
 ],
 "metadata": {
  "kernelspec": {
   "display_name": "Python 3",
   "language": "python",
   "name": "python3"
  },
  "language_info": {
   "codemirror_mode": {
    "name": "ipython",
    "version": 3
   },
   "file_extension": ".py",
   "mimetype": "text/x-python",
   "name": "python",
   "nbconvert_exporter": "python",
   "pygments_lexer": "ipython3",
   "version": "3.8.8"
  }
 },
 "nbformat": 4,
 "nbformat_minor": 4
}
